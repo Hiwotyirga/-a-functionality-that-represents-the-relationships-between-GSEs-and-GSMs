{
 "cells": [
  {
   "cell_type": "code",
   "execution_count": 12,
   "metadata": {},
   "outputs": [],
   "source": [
    "import os\n",
    "import GEOparse\n",
    "import logging\n",
    "import openai\n",
    "import pandas as pd\n",
    "import random"
   ]
  },
  {
   "cell_type": "code",
   "execution_count": 6,
   "metadata": {},
   "outputs": [],
   "source": [
    "datasets_df = pd.read_excel('Magalhaes_datasets.xlsx', header=1)\n"
   ]
  },
  {
   "cell_type": "code",
   "execution_count": 7,
   "metadata": {},
   "outputs": [
    {
     "data": {
      "text/html": [
       "<div>\n",
       "<style scoped>\n",
       "    .dataframe tbody tr th:only-of-type {\n",
       "        vertical-align: middle;\n",
       "    }\n",
       "\n",
       "    .dataframe tbody tr th {\n",
       "        vertical-align: top;\n",
       "    }\n",
       "\n",
       "    .dataframe thead th {\n",
       "        text-align: right;\n",
       "    }\n",
       "</style>\n",
       "<table border=\"1\" class=\"dataframe\">\n",
       "  <thead>\n",
       "    <tr style=\"text-align: right;\">\n",
       "      <th></th>\n",
       "      <th>Study</th>\n",
       "      <th>Tissue</th>\n",
       "      <th>Species</th>\n",
       "      <th>Technology</th>\n",
       "    </tr>\n",
       "  </thead>\n",
       "  <tbody>\n",
       "    <tr>\n",
       "      <th>0</th>\n",
       "      <td>AgeMap</td>\n",
       "      <td>Adrenal Glands</td>\n",
       "      <td>Mouse</td>\n",
       "      <td>Microarray</td>\n",
       "    </tr>\n",
       "    <tr>\n",
       "      <th>1</th>\n",
       "      <td>AgeMap</td>\n",
       "      <td>Bone Marrow</td>\n",
       "      <td>Mouse</td>\n",
       "      <td>Microarray</td>\n",
       "    </tr>\n",
       "    <tr>\n",
       "      <th>2</th>\n",
       "      <td>AgeMap</td>\n",
       "      <td>Brain</td>\n",
       "      <td>Mouse</td>\n",
       "      <td>Microarray</td>\n",
       "    </tr>\n",
       "    <tr>\n",
       "      <th>3</th>\n",
       "      <td>AgeMap</td>\n",
       "      <td>Eye</td>\n",
       "      <td>Mouse</td>\n",
       "      <td>Microarray</td>\n",
       "    </tr>\n",
       "    <tr>\n",
       "      <th>4</th>\n",
       "      <td>GDS1079</td>\n",
       "      <td>Myoblasts</td>\n",
       "      <td>Mouse</td>\n",
       "      <td>Microarray</td>\n",
       "    </tr>\n",
       "  </tbody>\n",
       "</table>\n",
       "</div>"
      ],
      "text/plain": [
       "     Study          Tissue Species  Technology\n",
       "0   AgeMap  Adrenal Glands   Mouse  Microarray\n",
       "1   AgeMap     Bone Marrow   Mouse  Microarray\n",
       "2   AgeMap           Brain   Mouse  Microarray\n",
       "3   AgeMap             Eye   Mouse  Microarray\n",
       "4  GDS1079       Myoblasts   Mouse  Microarray"
      ]
     },
     "execution_count": 7,
     "metadata": {},
     "output_type": "execute_result"
    }
   ],
   "source": [
    "datasets_df.head()"
   ]
  },
  {
   "cell_type": "code",
   "execution_count": 8,
   "metadata": {},
   "outputs": [],
   "source": [
    "gse_id_list = datasets_df.query(\"Technology=='Microarray' & Study !='AgeMap'\").Study.tolist()\n"
   ]
  },
  {
   "cell_type": "code",
   "execution_count": 9,
   "metadata": {},
   "outputs": [
    {
     "data": {
      "text/plain": [
       "['GDS1079',\n",
       " 'GDS1278',\n",
       " 'GDS1279',\n",
       " 'GDS1280',\n",
       " 'GDS1280',\n",
       " 'GDS1311',\n",
       " 'GDS156',\n",
       " 'GDS1647',\n",
       " 'GDS1803',\n",
       " 'GDS2019',\n",
       " 'GDS2082',\n",
       " 'GDS2612',\n",
       " 'GDS2639',\n",
       " 'GDS2681',\n",
       " 'GDS287',\n",
       " 'GDS288',\n",
       " 'GDS2912',\n",
       " 'GDS2929',\n",
       " 'GDS2972',\n",
       " 'GDS2973',\n",
       " 'GDS2996',\n",
       " 'GDS3077',\n",
       " 'GDS3102',\n",
       " 'GDS3102',\n",
       " 'GDS3182',\n",
       " 'GDS355',\n",
       " 'GDS356',\n",
       " 'GDS3620',\n",
       " 'GDS3869',\n",
       " 'GDS3915',\n",
       " 'GDS3939',\n",
       " 'GDS3976',\n",
       " 'GDS399',\n",
       " 'GDS40',\n",
       " 'GDS4019',\n",
       " 'GDS4264',\n",
       " 'GDS4522',\n",
       " 'GDS4523',\n",
       " 'GDS472',\n",
       " 'GDS473',\n",
       " 'GDS4804',\n",
       " 'GDS4858',\n",
       " 'GDS4874',\n",
       " 'GDS4892',\n",
       " 'GDS4904',\n",
       " 'GDS4925',\n",
       " 'GDS520',\n",
       " 'GDS5204',\n",
       " 'GDS5216',\n",
       " 'GDS5217',\n",
       " 'GDS5218',\n",
       " 'GDS5226',\n",
       " 'GDS5286',\n",
       " 'GDS5412',\n",
       " 'GDS707',\n",
       " 'GSE11097',\n",
       " 'GSE11291',\n",
       " 'GSE11291',\n",
       " 'GSE11291',\n",
       " 'GSE12277',\n",
       " 'GSE12480',\n",
       " 'GSE16487',\n",
       " 'GSE19676',\n",
       " 'GSE21681',\n",
       " 'GSE27625',\n",
       " 'GSE32719',\n",
       " 'GSE34378',\n",
       " 'GSE34378',\n",
       " 'GSE34378',\n",
       " 'GSE34378',\n",
       " 'GSE34378',\n",
       " 'GSE35322',\n",
       " 'GSE36192',\n",
       " 'GSE39540',\n",
       " 'GSE40645',\n",
       " 'GSE48911',\n",
       " 'GSE5086',\n",
       " 'GSE56045',\n",
       " 'GSE56580',\n",
       " 'GSE58137',\n",
       " 'GSE61915',\n",
       " 'GSE63060',\n",
       " 'GSE66857',\n",
       " 'GSE69187',\n",
       " 'GSE69832',\n",
       " 'GSE73450',\n",
       " 'GSE74463',\n",
       " 'GSE7958',\n",
       " 'GSE85084']"
      ]
     },
     "execution_count": 9,
     "metadata": {},
     "output_type": "execute_result"
    }
   ],
   "source": [
    "gse_id_list"
   ]
  },
  {
   "cell_type": "code",
   "execution_count": 15,
   "metadata": {},
   "outputs": [],
   "source": [
    "gse_id_list = [gse_id for gse_id in gse_id_list if gse_id.startswith('GSE')]\n"
   ]
  },
  {
   "cell_type": "code",
   "execution_count": 16,
   "metadata": {},
   "outputs": [
    {
     "data": {
      "text/plain": [
       "['GSE11097',\n",
       " 'GSE11291',\n",
       " 'GSE11291',\n",
       " 'GSE11291',\n",
       " 'GSE12277',\n",
       " 'GSE12480',\n",
       " 'GSE16487',\n",
       " 'GSE19676',\n",
       " 'GSE21681',\n",
       " 'GSE27625',\n",
       " 'GSE32719',\n",
       " 'GSE34378',\n",
       " 'GSE34378',\n",
       " 'GSE34378',\n",
       " 'GSE34378',\n",
       " 'GSE34378',\n",
       " 'GSE35322',\n",
       " 'GSE36192',\n",
       " 'GSE39540',\n",
       " 'GSE40645',\n",
       " 'GSE48911',\n",
       " 'GSE5086',\n",
       " 'GSE56045',\n",
       " 'GSE56580',\n",
       " 'GSE58137',\n",
       " 'GSE61915',\n",
       " 'GSE63060',\n",
       " 'GSE66857',\n",
       " 'GSE69187',\n",
       " 'GSE69832',\n",
       " 'GSE73450',\n",
       " 'GSE74463',\n",
       " 'GSE7958',\n",
       " 'GSE85084']"
      ]
     },
     "execution_count": 16,
     "metadata": {},
     "output_type": "execute_result"
    }
   ],
   "source": [
    "gse_id_list"
   ]
  },
  {
   "cell_type": "code",
   "execution_count": 17,
   "metadata": {},
   "outputs": [],
   "source": [
    "sampled_gses = random.sample(gse_id_list, 5)\n"
   ]
  },
  {
   "cell_type": "code",
   "execution_count": 18,
   "metadata": {},
   "outputs": [
    {
     "data": {
      "text/plain": [
       "['GSE11291', 'GSE61915', 'GSE66857', 'GSE19676', 'GSE16487']"
      ]
     },
     "execution_count": 18,
     "metadata": {},
     "output_type": "execute_result"
    }
   ],
   "source": [
    "sampled_gses"
   ]
  },
  {
   "cell_type": "code",
   "execution_count": null,
   "metadata": {},
   "outputs": [],
   "source": []
  }
 ],
 "metadata": {
  "kernelspec": {
   "display_name": "myenv",
   "language": "python",
   "name": "python3"
  },
  "language_info": {
   "codemirror_mode": {
    "name": "ipython",
    "version": 3
   },
   "file_extension": ".py",
   "mimetype": "text/x-python",
   "name": "python",
   "nbconvert_exporter": "python",
   "pygments_lexer": "ipython3",
   "version": "3.12.5"
  }
 },
 "nbformat": 4,
 "nbformat_minor": 2
}
